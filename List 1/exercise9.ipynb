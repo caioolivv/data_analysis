{
 "cells": [
  {
   "cell_type": "code",
   "execution_count": 1,
   "metadata": {},
   "outputs": [],
   "source": [
    "import numpy as np\n",
    "from sampler import *\n",
    "import matplotlib.pyplot as plt\n",
    "import scipy.special as sp\n",
    "import scipy.stats as stats\n",
    "from math import prod\n",
    "\n",
    "np.random.seed(1)\n",
    "\n",
    "def uniform(x):\n",
    "    if x < 0:\n",
    "        return 0\n",
    "    if x > 1:\n",
    "        return 0\n",
    "    else:\n",
    "        return 1\n",
    "\n",
    "def normal(x):\n",
    "    return np.exp(-x**2/2)/np.sqrt(2*np.pi)\n",
    "\n",
    "x0 = 10\n",
    "sigma = 1\n",
    "\n",
    "def erf(x):\n",
    "    if x > 0:\n",
    "        return (np.exp(-(x-x0)**2/(2*sigma**2) - np.exp(-(x+x0)**2/(2*sigma**2))))/(sigma*np.sqrt(np.pi*2))/sp.erf(x0/sigma/np.sqrt(2))\n",
    "    else:\n",
    "        return 0\n",
    "\n",
    "uniform_sampler = Sampler(uniform, domain=(True, 0, 1))\n",
    "normal_sampler = Sampler(normal, domain=(True, -5, 5))\n",
    "erf_sampler = Sampler(erf, domain=(True, 5, 15))"
   ]
  },
  {
   "cell_type": "markdown",
   "metadata": {},
   "source": [
    "# Exercise 9"
   ]
  },
  {
   "cell_type": "markdown",
   "metadata": {},
   "source": [
    "## a)"
   ]
  },
  {
   "cell_type": "code",
   "execution_count": 2,
   "metadata": {},
   "outputs": [],
   "source": [
    "# Create data\n",
    "uniform_samples = [uniform_sampler.sample(10), uniform_sampler.sample(100), uniform_sampler.sample(1000), uniform_sampler.sample(10000)]\n",
    "normal_samples = [normal_sampler.sample(10), normal_sampler.sample(100), normal_sampler.sample(1000), normal_sampler.sample(10000)]\n",
    "erf_samples = [erf_sampler.sample(10), erf_sampler.sample(100), erf_sampler.sample(1000), erf_sampler.sample(10000)]\n",
    "\n",
    "# Prepare data\n",
    "for samples in [uniform_samples, normal_samples, erf_samples]:\n",
    "    for i in range(len(samples)):\n",
    "        samples[i].set_moments()\n"
   ]
  },
  {
   "cell_type": "code",
   "execution_count": 3,
   "metadata": {},
   "outputs": [
    {
     "name": "stdout",
     "output_type": "stream",
     "text": [
      "Estimator 1: x = 0.5026\n",
      "Estimator 1: x = 0.0175\n",
      "Estimator 1: x = 9.9484\n",
      "\n"
     ]
    }
   ],
   "source": [
    "# Calculating estimators for N=1000 samples\n",
    "# Estimator 1\n",
    "for samples in [uniform_samples, normal_samples, erf_samples]:\n",
    "    print(f'Estimator 1: x = {samples[2].average:.4f}')\n",
    "print()"
   ]
  },
  {
   "cell_type": "code",
   "execution_count": 4,
   "metadata": {},
   "outputs": [
    {
     "name": "stdout",
     "output_type": "stream",
     "text": [
      "Estimator 2: x = 0.5273\n",
      "Estimator 2: x = 0.0195\n",
      "Estimator 2: x = 9.1660\n"
     ]
    }
   ],
   "source": [
    "# Estimator 2\n",
    "for samples in [uniform_samples, normal_samples, erf_samples]:\n",
    "    x = sum(samples[2].data[:10])/10\n",
    "    print(f'Estimator 2: x = {x:.4f}')\n"
   ]
  },
  {
   "cell_type": "code",
   "execution_count": 5,
   "metadata": {},
   "outputs": [
    {
     "name": "stdout",
     "output_type": "stream",
     "text": [
      "Estimator 3: x = 0.5031\n",
      "Estimator 3: x = 0.0175\n",
      "Estimator 3: x = 9.9583\n"
     ]
    }
   ],
   "source": [
    "# Estimator 3\n",
    "for samples in [uniform_samples, normal_samples, erf_samples]:\n",
    "    x = sum(samples[2].data)/(samples[2].N - 1)\n",
    "    print(f'Estimator 3: x = {x:.4f}')"
   ]
  },
  {
   "cell_type": "code",
   "execution_count": 6,
   "metadata": {},
   "outputs": [
    {
     "name": "stdout",
     "output_type": "stream",
     "text": [
      "Estimator 4: x = 1.8\n",
      "Estimator 4: x = 1.8\n",
      "Estimator 4: x = 1.8\n"
     ]
    }
   ],
   "source": [
    "# Estimator 4\n",
    "for samples in [uniform_samples, normal_samples, erf_samples]:\n",
    "    print(f'Estimator 4: x = 1.8')"
   ]
  },
  {
   "cell_type": "code",
   "execution_count": 7,
   "metadata": {},
   "outputs": [
    {
     "name": "stdout",
     "output_type": "stream",
     "text": [
      "Estimator 5: x = 0.3670\n",
      "Estimator 5: x = nan\n",
      "Estimator 5: x = 9.9013\n"
     ]
    },
    {
     "name": "stderr",
     "output_type": "stream",
     "text": [
      "/tmp/ipykernel_49052/1034821145.py:5: RuntimeWarning: invalid value encountered in double_scalars\n",
      "  y = [xi**(1/n) for xi in samples[2].data]\n"
     ]
    }
   ],
   "source": [
    "# Calculating estimators for N=100 samples\n",
    "# Estimator 5\n",
    "for samples in [uniform_samples, normal_samples, erf_samples]:\n",
    "    n = samples[2].N\n",
    "    y = [xi**(1/n) for xi in samples[2].data]\n",
    "    x = prod(y)\n",
    "    # x = prod(samples[1].data)**(1/samples[1].N)\n",
    "    print(f'Estimator 5: x = {x:.4f}')"
   ]
  },
  {
   "cell_type": "markdown",
   "metadata": {},
   "source": [
    "There are few problems with this estimator: it 'breaks' for distributions near 0. There's a chance the product will become 0 because of a 'rogue' sample or negative, in which case it is not possible to take a root."
   ]
  },
  {
   "cell_type": "code",
   "execution_count": 8,
   "metadata": {},
   "outputs": [
    {
     "name": "stdout",
     "output_type": "stream",
     "text": [
      "Estimator 6: x = 0.0100\n",
      "Estimator 6: x = -0.0600\n",
      "Estimator 6: x = 10.0000\n"
     ]
    }
   ],
   "source": [
    "# Since this is a continuous distribution and finding two or more equal \n",
    "# values is basically impossible, I'll bin the data and return the highetst bin\n",
    "# Estimator 6\n",
    "uniform_samples[2].set_bins(0, 1, 100)\n",
    "normal_samples[2].set_bins(-3, 3, 100)\n",
    "erf_samples[2].set_bins(x0-3*sigma, x0+3*sigma, 100)\n",
    "\n",
    "for samples in [uniform_samples, normal_samples, erf_samples]:\n",
    "    max_hist = max(samples[2].histogram)\n",
    "    i = np.where(samples[2].histogram == max_hist)[0][0]\n",
    "    mode = samples[2].bins[i] \n",
    "    print(f'Estimator 6: x = {mode:.4f}')"
   ]
  },
  {
   "cell_type": "code",
   "execution_count": 9,
   "metadata": {},
   "outputs": [
    {
     "name": "stdout",
     "output_type": "stream",
     "text": [
      "Estimator 7: x = 0.4986\n",
      "Estimator 7: x = -0.2555\n",
      "Estimator 7: x = 9.7930\n"
     ]
    }
   ],
   "source": [
    "# Estimator 7\n",
    "for samples in [uniform_samples, normal_samples, erf_samples]:\n",
    "    x = (min(samples[2].data) + max(samples[2].data))/2\n",
    "    print(f'Estimator 7: x = {x:.4f}')"
   ]
  },
  {
   "cell_type": "code",
   "execution_count": 10,
   "metadata": {},
   "outputs": [
    {
     "name": "stdout",
     "output_type": "stream",
     "text": [
      "Estimator 8: x = 0.5029\n",
      "Estimator 8: x = 0.0573\n",
      "Estimator 8: x = 9.9662\n"
     ]
    }
   ],
   "source": [
    "# Estimator 8\n",
    "for samples in [uniform_samples, normal_samples, erf_samples]:\n",
    "    x = sum(samples[2].data[::2])/samples[2].N*2 if samples[2].N % 2 == 0 else sum(samples[2].data[::2])/(samples[2].N-1)*2\n",
    "    print(f'Estimator 8: x = {x:.4f}')"
   ]
  },
  {
   "cell_type": "markdown",
   "metadata": {},
   "source": [
    "## b)"
   ]
  },
  {
   "cell_type": "code",
   "execution_count": 11,
   "metadata": {},
   "outputs": [],
   "source": [
    "# Create data\n",
    "N = [10**(1+i) for i in range(5)]\n",
    "\n",
    "uniform_samples = [uniform_sampler.sample(n) for n in N]\n",
    "normal_samples = [normal_sampler.sample(n) for n in N]\n",
    "erf_samples = [erf_sampler.sample(n) for n in N]\n",
    "\n",
    "for i in range(len(N)):\n",
    "    uniform_samples[i].set_moments()\n",
    "    normal_samples[i].set_moments()\n",
    "    erf_samples[i].set_moments()"
   ]
  },
  {
   "cell_type": "code",
   "execution_count": 12,
   "metadata": {},
   "outputs": [
    {
     "name": "stdout",
     "output_type": "stream",
     "text": [
      "Estimator 1\n",
      "0.21947 10\n",
      "0.06098 100\n",
      "0.03882 1000\n",
      "0.01089 10000\n",
      "0.00134 100000\n"
     ]
    }
   ],
   "source": [
    "# Testing consistency\n",
    "#Estimator 1\n",
    "print('Estimator 1')\n",
    "\n",
    "for i in range(len(N)):\n",
    "    err = 0\n",
    "    for samples, mu in [(uniform_samples, 0.5), (normal_samples, 0), (erf_samples, 10)]:\n",
    "        err += abs(samples[i].average - mu)\n",
    "    err /= 3\n",
    "    print(f'{err:.5f} {N[i]}')\n"
   ]
  },
  {
   "cell_type": "code",
   "execution_count": 13,
   "metadata": {},
   "outputs": [
    {
     "name": "stdout",
     "output_type": "stream",
     "text": [
      "Estimator 2\n",
      "0.21947 10\n",
      "0.35660 100\n",
      "0.19831 1000\n",
      "0.41252 10000\n",
      "0.33553 100000\n"
     ]
    }
   ],
   "source": [
    "print('Estimator 2')\n",
    "\n",
    "for i in range(len(N)):\n",
    "    err = 0\n",
    "    for samples, mu in [(uniform_samples, 0.5), (normal_samples, 0), (erf_samples, 10)]:\n",
    "        x = sum(samples[i].data[:10])/10\n",
    "        err += abs(x - mu)\n",
    "    err /= 3\n",
    "    print(f'{err:.5f} {N[i]}')"
   ]
  },
  {
   "cell_type": "code",
   "execution_count": 14,
   "metadata": {},
   "outputs": [
    {
     "name": "stdout",
     "output_type": "stream",
     "text": [
      "Estimator 3\n",
      "0.37038 10\n",
      "0.09358 100\n",
      "0.03536 1000\n",
      "0.01121 10000\n",
      "0.00130 100000\n"
     ]
    }
   ],
   "source": [
    "print('Estimator 3')\n",
    "\n",
    "for i in range(len(N)):\n",
    "    err = 0\n",
    "    for samples, mu in [(uniform_samples, 0.5), (normal_samples, 0), (erf_samples, 10)]:\n",
    "        x = sum(samples[i].data)/(samples[i].N-1)\n",
    "        err += abs(x - mu)\n",
    "    err /= 3\n",
    "    print(f'{err:.5f} {N[i]}')"
   ]
  },
  {
   "cell_type": "code",
   "execution_count": 15,
   "metadata": {},
   "outputs": [
    {
     "name": "stdout",
     "output_type": "stream",
     "text": [
      "Estimator 4\n",
      "3.76667 10\n",
      "3.76667 100\n",
      "3.76667 1000\n",
      "3.76667 10000\n",
      "3.76667 100000\n"
     ]
    }
   ],
   "source": [
    "print('Estimator 4')\n",
    "\n",
    "for i in range(len(N)):\n",
    "    err = 0\n",
    "    for samples, mu in [(uniform_samples, 0.5), (normal_samples, 0), (erf_samples, 10)]:\n",
    "        x = 1.8\n",
    "        err += abs(x - mu)\n",
    "    err /= 3\n",
    "    print(f'{err:.5f} {N[i]}')"
   ]
  },
  {
   "cell_type": "code",
   "execution_count": 16,
   "metadata": {},
   "outputs": [
    {
     "name": "stdout",
     "output_type": "stream",
     "text": [
      "Estimator 5\n",
      "nan 10\n",
      "nan 100\n",
      "nan 1000\n",
      "nan 10000\n",
      "nan 100000\n"
     ]
    },
    {
     "name": "stderr",
     "output_type": "stream",
     "text": [
      "/tmp/ipykernel_49052/3983979451.py:7: RuntimeWarning: invalid value encountered in double_scalars\n",
      "  y = [xi**(1/n) for xi in samples[i].data]\n"
     ]
    }
   ],
   "source": [
    "print('Estimator 5')\n",
    "\n",
    "for i in range(len(N)):\n",
    "    err = 0\n",
    "    for samples, mu in [(uniform_samples, 0.5), (normal_samples, 0), (erf_samples, 10)]:\n",
    "        n = samples[i].N\n",
    "        y = [xi**(1/n) for xi in samples[i].data]\n",
    "        x = prod(y)\n",
    "        err += abs(x - mu)\n",
    "    err /= 3\n",
    "    print(f'{err:.5f} {N[i]}')"
   ]
  },
  {
   "cell_type": "markdown",
   "metadata": {},
   "source": [
    "Again, there are few problems with this estimator: it 'breaks' for distributions near 0. There's a chance the product will become 0 because of a 'rogue' sample or negative, in which case it is not possible to take a root."
   ]
  },
  {
   "cell_type": "code",
   "execution_count": 17,
   "metadata": {},
   "outputs": [
    {
     "name": "stdout",
     "output_type": "stream",
     "text": [
      "Estimator 6\n",
      "0.86667 10\n",
      "0.42000 100\n",
      "0.34333 1000\n",
      "0.14667 10000\n",
      "0.08000 100000\n"
     ]
    }
   ],
   "source": [
    "print('Estimator 6')\n",
    "\n",
    "for i in range(len(N)):\n",
    "    uniform_samples[i].set_bins(0, 1, 100)\n",
    "    normal_samples[i].set_bins(-3, 3, 100)\n",
    "    erf_samples[i].set_bins(x0-3*sigma, x0+3*sigma, 100)\n",
    "    err = 0\n",
    "    for samples, mu in [(uniform_samples, 0.5), (normal_samples, 0), (erf_samples, 10)]:\n",
    "        max_hist = max(samples[i].histogram)\n",
    "        j = np.where(samples[i].histogram == max_hist)[0][0]\n",
    "        mode = samples[i].bins[j]\n",
    "        err += abs(mode-mu)\n",
    "    err /= 3\n",
    "    print(f'{err:.5f} {N[i]}')"
   ]
  },
  {
   "cell_type": "code",
   "execution_count": 18,
   "metadata": {},
   "outputs": [
    {
     "name": "stdout",
     "output_type": "stream",
     "text": [
      "Estimator 7\n",
      "0.23714 10\n",
      "0.04840 100\n",
      "0.17370 1000\n",
      "0.09315 10000\n",
      "0.01855 100000\n"
     ]
    }
   ],
   "source": [
    "print('Estimator 7')\n",
    "\n",
    "for i in range(len(N)):\n",
    "    err = 0\n",
    "    for samples, mu in [(uniform_samples, 0.5), (normal_samples, 0), (erf_samples, 10)]:\n",
    "        x = (max(samples[i].data) + min(samples[i].data))/2\n",
    "        err += abs(x - mu)\n",
    "    err /= 3\n",
    "    print(f'{err:.5f} {N[i]}')"
   ]
  },
  {
   "cell_type": "code",
   "execution_count": 19,
   "metadata": {},
   "outputs": [
    {
     "name": "stdout",
     "output_type": "stream",
     "text": [
      "Estimator 8\n",
      "0.11766 10\n",
      "0.02764 100\n",
      "0.04458 1000\n",
      "0.00782 10000\n",
      "0.00244 100000\n"
     ]
    }
   ],
   "source": [
    "print('Estimator 8')\n",
    "\n",
    "for i in range(len(N)):\n",
    "    err = 0\n",
    "    for samples, mu in [(uniform_samples, 0.5), (normal_samples, 0), (erf_samples, 10)]:\n",
    "        x = sum(samples[i].data[::2])/samples[i].N*2 if samples[i].N % 2 == 0 else sum(samples[i].data[::2])/(samples[i].N-1)*2\n",
    "        err += abs(x - mu)\n",
    "    err /= 3\n",
    "    print(f'{err:.5f} {N[i]}')"
   ]
  },
  {
   "cell_type": "code",
   "execution_count": 20,
   "metadata": {},
   "outputs": [
    {
     "name": "stdout",
     "output_type": "stream",
     "text": [
      "Estimator 1\n",
      "0.21947 10\n",
      "0.06098 100\n",
      "0.03882 1000\n",
      "0.01089 10000\n",
      "0.00134 100000\n"
     ]
    }
   ],
   "source": [
    "# Testing bias\n",
    "#Estimator 1\n",
    "print('Estimator 1')\n",
    "\n",
    "for i in range(len(N)):\n",
    "    err = 0\n",
    "    for samples, mu in [(uniform_samples, 0.5), (normal_samples, 0), (erf_samples, 10)]:\n",
    "        err += abs(samples[i].average - mu)\n",
    "    err /= 3\n",
    "    print(f'{err:.5f} {N[i]}')\n"
   ]
  }
 ],
 "metadata": {
  "kernelspec": {
   "display_name": "Python 3.10.4 64-bit",
   "language": "python",
   "name": "python3"
  },
  "language_info": {
   "codemirror_mode": {
    "name": "ipython",
    "version": 3
   },
   "file_extension": ".py",
   "mimetype": "text/x-python",
   "name": "python",
   "nbconvert_exporter": "python",
   "pygments_lexer": "ipython3",
   "version": "3.10.4"
  },
  "orig_nbformat": 4,
  "vscode": {
   "interpreter": {
    "hash": "e7370f93d1d0cde622a1f8e1c04877d8463912d04d973331ad4851f04de6915a"
   }
  }
 },
 "nbformat": 4,
 "nbformat_minor": 2
}
