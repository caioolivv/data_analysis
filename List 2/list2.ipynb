{
 "cells": [
  {
   "cell_type": "code",
   "execution_count": 1,
   "metadata": {},
   "outputs": [],
   "source": [
    "import matplotlib.pyplot as plt\n",
    "import numpy as np\n",
    "from scipy.integrate import quad\n",
    "\n",
    "np.random.seed(0)"
   ]
  },
  {
   "cell_type": "markdown",
   "metadata": {},
   "source": [
    "# Exercise 1"
   ]
  },
  {
   "cell_type": "code",
   "execution_count": 2,
   "metadata": {},
   "outputs": [],
   "source": [
    "c   = 1\n",
    "mpc = 1\n",
    "\n",
    "def modular_dist(z, h0, omega_l, omega_k, omega_m, omega_r):\n",
    "\n",
    "    norm_hubble        = lambda x: np.sqrt(omega_l + omega_k*(1+x)**2 + omega_m*(1+x)**3 + omega_r*(1+x)**4)\n",
    "    comoving_dist      = quad(norm_hubble, 0, z)\n",
    "    temp_comoving_dist = np.sinh(np.sqrt(omega_k)*comoving_dist)/np.sqrt(omega_k)\n",
    "    lumin_dist         = (1+z)*temp_comoving_dist\n",
    "\n",
    "    return 5*np.log10(lumin_dist) + 25 + 5*np.log10(c/h0/mpc)\n",
    "\n",
    "def log_likelihood(z_data, modular_dist_data, sigma_data, h0, omega_l, omega_k, omega_m, omega_r):\n",
    "\n",
    "    likelihood = 0\n",
    "\n",
    "    for z, mu, sigma in zip(z_data, modular_dist_data, sigma_data):\n",
    "        likelihood += (modular_dist(z, h0, omega_l, omega_k, omega_m, omega_r) - mu)**2/sigma**2\n",
    "\n",
    "    return likelihood"
   ]
  },
  {
   "cell_type": "markdown",
   "metadata": {},
   "source": [
    "## a)"
   ]
  },
  {
   "cell_type": "code",
   "execution_count": null,
   "metadata": {},
   "outputs": [],
   "source": []
  }
 ],
 "metadata": {
  "kernelspec": {
   "display_name": "Python 3.10.5 64-bit",
   "language": "python",
   "name": "python3"
  },
  "language_info": {
   "codemirror_mode": {
    "name": "ipython",
    "version": 3
   },
   "file_extension": ".py",
   "mimetype": "text/x-python",
   "name": "python",
   "nbconvert_exporter": "python",
   "pygments_lexer": "ipython3",
   "version": "3.10.5"
  },
  "orig_nbformat": 4,
  "vscode": {
   "interpreter": {
    "hash": "e7370f93d1d0cde622a1f8e1c04877d8463912d04d973331ad4851f04de6915a"
   }
  }
 },
 "nbformat": 4,
 "nbformat_minor": 2
}
