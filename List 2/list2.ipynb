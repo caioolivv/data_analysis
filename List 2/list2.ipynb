{
 "cells": [
  {
   "cell_type": "code",
   "execution_count": 54,
   "metadata": {},
   "outputs": [],
   "source": [
    "import matplotlib.pyplot as plt\n",
    "import numpy as np\n",
    "from scipy.integrate import quad\n",
    "from scipy.optimize import minimize\n",
    "\n",
    "np.random.seed(0)"
   ]
  },
  {
   "cell_type": "markdown",
   "metadata": {},
   "source": [
    "# Exercise 1"
   ]
  },
  {
   "cell_type": "code",
   "execution_count": 107,
   "metadata": {},
   "outputs": [],
   "source": [
    "c   = 3e5\n",
    "mpc = 1\n",
    "\n",
    "def modular_dist(z, h0, omega_l, omega_k, omega_m, omega_r):\n",
    "\n",
    "    norm_hubble_inv = lambda x: 1/np.sqrt(omega_l + omega_k*(1+x)**2 + omega_m*(1+x)**3 + omega_r*(1+x)**4)\n",
    "    comoving_dist = quad(norm_hubble_inv, 0, z)[0]\n",
    "    if omega_k == 0:\n",
    "        temp_comoving_dist = comoving_dist\n",
    "    elif omega_k > 0:\n",
    "        temp_comoving_dist = np.sinh(np.sqrt(omega_k)*comoving_dist)/np.sqrt(omega_k)\n",
    "    else:\n",
    "        temp_comoving_dist = np.sin(np.sqrt(-omega_k)*comoving_dist)/np.sqrt(-omega_k)\n",
    "    lumin_dist = (1+z)*temp_comoving_dist\n",
    "    mod_dist = 5*np.log10(lumin_dist) + 25 + 5*np.log10(c/h0/mpc)\n",
    "\n",
    "    return mod_dist\n",
    "\n",
    "def log_likelihood(z_data, modular_dist_data, sigma_data, h0, omega_l, omega_k, omega_m, omega_r):\n",
    "\n",
    "    likelihood = 0\n",
    "\n",
    "    for z, mu, sigma in zip(z_data, modular_dist_data, sigma_data):\n",
    "        likelihood += (modular_dist(z, h0, omega_l, omega_k, omega_m, omega_r) - mu)**2/sigma**2\n",
    "\n",
    "    return likelihood\n",
    "\n",
    "\n",
    "sn_data = open(\"nc_data_snia_diag_legacy.obj\", \"r\")\n",
    "lines   = sn_data.readlines()\n",
    "\n",
    "for line in lines:\n",
    "    \n",
    "    obj = line.split(':')\n",
    "    key = obj[0].strip(\"' ,\\n\")\n",
    "\n",
    "    if key == 'mean':\n",
    "        data = obj[1].strip(\" <>,\\n[]\").split(', ')\n",
    "        dist_obs = [float(d) for d in data]\n",
    "    elif key == 'sigma':\n",
    "        data = obj[1].strip(\" <>,\\n[]\").split(', ')\n",
    "        sigma_obs = [float(d) for d in data]\n",
    "    elif key == 'z':\n",
    "        data = obj[1].strip(\" <>,\\n[]\").split(', ')\n",
    "        z_obs = [float(d) for d in data]"
   ]
  },
  {
   "cell_type": "markdown",
   "metadata": {},
   "source": [
    "## a)"
   ]
  },
  {
   "cell_type": "markdown",
   "metadata": {},
   "source": [
    "Calculing best fit"
   ]
  },
  {
   "cell_type": "code",
   "execution_count": 143,
   "metadata": {},
   "outputs": [],
   "source": [
    "fixed_likelihood = lambda theta: log_likelihood(z_obs, dist_obs, sigma_obs, theta[0], theta[1], 0, theta[2], 0)\n",
    "\n",
    "guess = [70,0.7,0.3]\n",
    "best_fit = minimize(fixed_likelihood, guess, method='nelder-mead', tol=1e-20)"
   ]
  },
  {
   "cell_type": "code",
   "execution_count": 144,
   "metadata": {},
   "outputs": [
    {
     "data": {
      "text/plain": [
       "array([67.71237825,  0.78967993,  0.28097493])"
      ]
     },
     "execution_count": 144,
     "metadata": {},
     "output_type": "execute_result"
    }
   ],
   "source": [
    "best_fit.x"
   ]
  },
  {
   "cell_type": "code",
   "execution_count": null,
   "metadata": {},
   "outputs": [],
   "source": []
  },
  {
   "cell_type": "markdown",
   "metadata": {},
   "source": [
    "## b)"
   ]
  },
  {
   "cell_type": "code",
   "execution_count": 158,
   "metadata": {},
   "outputs": [],
   "source": [
    "free_likelihood = lambda theta: log_likelihood(z_obs, dist_obs, sigma_obs, theta[0], theta[1], theta[2], theta[3], theta[4])\n",
    "\n",
    "guess = [70, 0.7, 0, 0.3, 0]\n",
    "best_fit = minimize(free_likelihood, guess, method='nelder-mead', tol=1e-20)"
   ]
  },
  {
   "cell_type": "code",
   "execution_count": 159,
   "metadata": {},
   "outputs": [
    {
     "data": {
      "text/plain": [
       "array([ 5.53840271e+01,  1.18894033e+00, -2.94849592e-03,  4.05059987e-01,\n",
       "        9.72450554e-03])"
      ]
     },
     "execution_count": 159,
     "metadata": {},
     "output_type": "execute_result"
    }
   ],
   "source": [
    "best_fit.x"
   ]
  },
  {
   "cell_type": "code",
   "execution_count": null,
   "metadata": {},
   "outputs": [],
   "source": []
  }
 ],
 "metadata": {
  "kernelspec": {
   "display_name": "Python 3.10.5 64-bit",
   "language": "python",
   "name": "python3"
  },
  "language_info": {
   "codemirror_mode": {
    "name": "ipython",
    "version": 3
   },
   "file_extension": ".py",
   "mimetype": "text/x-python",
   "name": "python",
   "nbconvert_exporter": "python",
   "pygments_lexer": "ipython3",
   "version": "3.10.5"
  },
  "orig_nbformat": 4,
  "vscode": {
   "interpreter": {
    "hash": "e7370f93d1d0cde622a1f8e1c04877d8463912d04d973331ad4851f04de6915a"
   }
  }
 },
 "nbformat": 4,
 "nbformat_minor": 2
}
