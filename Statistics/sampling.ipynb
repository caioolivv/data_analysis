{
 "cells": [
  {
   "cell_type": "code",
   "execution_count": 1,
   "metadata": {},
   "outputs": [],
   "source": [
    "import numpy as np\n",
    "import matplotlib.pyplot as plt\n",
    "\n",
    "\n",
    "class Interpolation:\n",
    "\n",
    "    def __init__(self, x, y):\n",
    "        self.__set___x(x)\n",
    "        self.__set___y(y)\n",
    "        self.__set_bins()\n",
    "        self.__set_coefficients()\n",
    "\n",
    "    def __set___x(self, x):\n",
    "        if len(x) % 2:\n",
    "            self.__x = x\n",
    "        else:\n",
    "            self.__x = x[:-1]\n",
    "\n",
    "    def __set___y(self, y):\n",
    "        if len(y) % 2:\n",
    "            self.__y = y\n",
    "        else:\n",
    "            self.__y = y[:-1]\n",
    "\n",
    "    def get___y(self):\n",
    "        return self.__y\n",
    "\n",
    "    def __set_bins(self):\n",
    "        self.bins = self.__x[:-1:2]\n",
    "\n",
    "    def __set_coefficients(self):\n",
    "\n",
    "        def interpolate(x, y):\n",
    "            a = ((y[0] - y[1])*(x[1] - x[2]) - (y[1] - y[2])*(x[0] - x[1]))/((x[0]**2 - x[1]**2)*(x[1] - x[2]) - (x[1]**2 - x[2]**2)*(x[0] - x[1]))\n",
    "            b = ((y[1] - y[2]) - a*(x[1]**2 - x[2]**2))/(x[1] - x[2])\n",
    "            c = y[0] - a*x[0]**2 - b*x[0]\n",
    "\n",
    "            return a, b, c          \n",
    "\n",
    "        coefficients = []\n",
    "\n",
    "        for i in range(len(self.__x)-1)[::2]:\n",
    "            coefficients.append(interpolate([self.__x[i], self.__x[i+1], self.__x[i+2]], [self.__y[i], self.__y[i+1], self.__y[i+2],]))\n",
    "\n",
    "        self.coefficients = coefficients\n",
    "\n",
    "    def get_bin(self, x):\n",
    "        if x < self.bins[0]:\n",
    "            bin = -1\n",
    "        elif x > self.bins[-1]:\n",
    "            bin = len(self.bins)\n",
    "        else:\n",
    "            i = 0\n",
    "            while x > self.bins[i+1]:\n",
    "                i +=1\n",
    "            bin = i\n",
    "        \n",
    "        return bin\n",
    "\n",
    "    def get_coefficients(self, x):\n",
    "        i = self.get_bin(x)\n",
    "        \n",
    "        if i == -1:\n",
    "            a = 0\n",
    "            b = 0\n",
    "            c = self.coefficients[0][2]\n",
    "        elif i == len(self.bins):\n",
    "            a = 0\n",
    "            b = 0\n",
    "            c = self.coefficients[-1][2]           \n",
    "        else:\n",
    "            a = self.coefficients[i][0]\n",
    "            b = self.coefficients[i][1]\n",
    "            c = self.coefficients[i][2]\n",
    "\n",
    "        # if x < self.bins[0]:\n",
    "        #     a = 0\n",
    "        #     b = 0\n",
    "        #     c = self.coefficients[0][2]\n",
    "        # elif x > self.bins[-1]:\n",
    "        #     a = 0\n",
    "        #     b = 0\n",
    "        #     c = self.coefficients[-1][2]\n",
    "        # else:\n",
    "        #     i = 0\n",
    "        #     while x > self.bins[i+1]:\n",
    "        #         i +=1\n",
    "        #     a = self.coefficients[i][0]\n",
    "        #     b = self.coefficients[i][1]\n",
    "        #     c = self.coefficients[i][2]\n",
    "        return a, b, c\n",
    "\n",
    "    def evaluate(self, x):\n",
    "        a, b, c = self.get_coefficients(x)\n",
    "        return a*x**2 + b*x + c\n",
    "\n",
    "\n",
    "class Integral:\n",
    "\n",
    "    def __init__(self, func, num=10000):\n",
    "        self.__func = func\n",
    "        self.__num_bins = num\n",
    "        self.__set___mid_point()\n",
    "        self.__set___end_points()\n",
    "        self.__set___func_interpolation()\n",
    "  \n",
    "    def __set___mid_point(self):\n",
    "        step = 1e-1\n",
    "        x_0 = 0\n",
    "\n",
    "        if self.__func(x_0 + step) > self.__func(x_0):\n",
    "\n",
    "            while step > 1e-6:\n",
    "\n",
    "                p_0 = self.__func(x_0)\n",
    "                p_1 = self.__func(x_0 + step)\n",
    "\n",
    "                while p_1 < p_0:\n",
    "\n",
    "                    step = step/2\n",
    "                    p_1 = self.__func(x_0 + step)\n",
    "\n",
    "                x_0 = x_0 + step\n",
    "        \n",
    "        if self.__func(x_0 + step) < self.__func(x_0):\n",
    "\n",
    "            while step > 1e-6:\n",
    "\n",
    "                p_0 = self.__func(x_0)\n",
    "                p_1 = self.__func(x_0 - step)\n",
    "\n",
    "                while p_1 < p_0:\n",
    "\n",
    "                    step = step/2\n",
    "                    p_1 = self.__func(x_0 - step)\n",
    "\n",
    "                x_0 = x_0 + step\n",
    "\n",
    "        self.__mid_point = x_0\n",
    "        \n",
    "    def __set___end_points(self):\n",
    "        x_inf = self.__mid_point\n",
    "        x_sup = x_inf\n",
    "        step_inf = 1e-1\n",
    "        step_sup = 1e-1\n",
    "\n",
    "        step_bound = 1/self.__num_bins**2\n",
    "        p_bound = 1/self.__num_bins**2\n",
    "\n",
    "        while step_inf > step_bound:\n",
    "\n",
    "            p_inf_0 = self.__func(x_inf)\n",
    "            p_inf_1 = self.__func(x_inf - step_inf)\n",
    "\n",
    "            while p_inf_1 < p_bound:\n",
    "\n",
    "                step_inf = step_inf/2\n",
    "                p_inf_1 = self.__func(x_inf - step_inf)\n",
    "\n",
    "            x_inf = x_inf - step_inf\n",
    "\n",
    "        while step_sup > step_bound:\n",
    "\n",
    "            p_sup_0 = self.__func(x_sup)\n",
    "            p_sup_1 = self.__func(x_sup + step_sup)\n",
    "\n",
    "            while p_sup_1 < p_bound:\n",
    "\n",
    "                step_sup = step_sup/2\n",
    "                p_sup_1 = self.__func(x_sup + step_sup)\n",
    "\n",
    "            x_sup = x_sup + step_sup\n",
    "\n",
    "        self.__end_points = (x_inf, x_sup)\n",
    "\n",
    "    def __set___func_interpolation(self):\n",
    "        lower_bound, higher_bound = self.__end_points\n",
    "\n",
    "        self.__x = np.linspace(lower_bound, higher_bound, 2*self.__num_bins + 1)\n",
    "        self.__f = [self.__func(x_i) for x_i in self.__x]\n",
    "\n",
    "        self.__func_interpolation = Interpolation(self.__x, self.__f)\n",
    "\n",
    "    def get_end_points(self):\n",
    "        return self.__end_points\n",
    "\n",
    "    def integrate(self, x_1, x_2):\n",
    "        x = self.__func_interpolation.bins\n",
    "\n",
    "        i = self.__func_interpolation.get_bin(x_1)\n",
    "        j = self.__func_interpolation.get_bin(x_2)\n",
    "\n",
    "        # i = 0\n",
    "        # while x_1 > x[i+1]:\n",
    "        #     i += 1\\\n",
    "\n",
    "        if i == j:\n",
    "            a, b, c = self.__func_interpolation.get_coefficients(x_1)\n",
    "            integral = a/3*(x_2**3 - x_1**3) + b/2*(x_2**2 - x_1**2) + c*(x_2 - x_1)\n",
    "\n",
    "        else:\n",
    "            if i == -1:\n",
    "                lower_integral = 0\n",
    "            else:\n",
    "                a, b, c = self.__func_interpolation.get_coefficients(x_1)\n",
    "                lower_integral = a/3*(x[i+1]**3 - x_1**3) + b/2*(x[i+1]**2 - x_1**2) + c*(x[i+1] - x_1)\n",
    "\n",
    "            middle_integral = 0\n",
    "\n",
    "            while i < j-1:\n",
    "                a, b, c = self.__func_interpolation.coefficients[i]\n",
    "                middle_integral += a/3*(x[i+1]**3 - x[i]**3) + b/2*(x[i+1]**2 - x[i]**2) + c*(x[i+1] - x[i])\n",
    "                i += 1\n",
    "            \n",
    "            if j == len(x):\n",
    "                higher_integral = 0\n",
    "            else:\n",
    "                a, b, c = self.__func_interpolation.get_coefficients(x_2)\n",
    "                higher_integral = a/3*(x_2**3 - x[j]**3) + b/2*(x_2**2 - x[j]**2) + c*(x_2 - x[j])\n",
    "            \n",
    "            integral = lower_integral + middle_integral + higher_integral\n",
    "\n",
    "        return integral\n",
    "        \n",
    "\n",
    "class Sampler:\n",
    "\n",
    "    def __init__(self, pdf, num=10000):\n",
    "        # self.__distribution = pdf\n",
    "        self.__num = num\n",
    "        self.integral = Integral(pdf, num)\n",
    "        self.__set___interpolation()\n",
    "\n",
    "    def __set___interpolation(self):\n",
    "        lower_bound, higher_bound = self.integral.get_end_points()\n",
    "\n",
    "        self.__x = np.linspace(lower_bound, higher_bound, 2*self.__num+1)\n",
    "        cumulative = [0]\n",
    "\n",
    "        for i in range(1, len(self.__x)):\n",
    "            partial = self.integral.integrate(self.__x[i-1], self.__x[i])\n",
    "            cumulative.append(cumulative[-1]+partial)\n",
    "\n",
    "        self.__cumulative = cumulative\n",
    "\n",
    "        # print(cumulative)\n",
    "        self.interpolation = Interpolation(self.__cumulative, self.__x)\n",
    "\n",
    "    def get___cumulative(self):\n",
    "        return self.__cumulative\n",
    "\n",
    "    def get___x(self):\n",
    "        return self.__x\n",
    "\n",
    "    def sample(self, size):\n",
    "        draw = np.random.uniform(0, 1, size)\n",
    "        # print(draw)\n",
    "        return [self.interpolation.evaluate(x) for x in draw]\n",
    "\n"
   ]
  },
  {
   "cell_type": "code",
   "execution_count": 2,
   "metadata": {},
   "outputs": [],
   "source": [
    "def gaussian(x):\n",
    "    return np.exp(-x**2/2)/np.sqrt(2*np.pi)"
   ]
  },
  {
   "cell_type": "code",
   "execution_count": 3,
   "metadata": {},
   "outputs": [],
   "source": [
    "gaussian_integral = Integral(gaussian, 5)"
   ]
  },
  {
   "cell_type": "code",
   "execution_count": 4,
   "metadata": {},
   "outputs": [],
   "source": [
    "gaussian_sampler = Sampler(gaussian, 1000)"
   ]
  },
  {
   "cell_type": "code",
   "execution_count": 5,
   "metadata": {},
   "outputs": [],
   "source": [
    "# samples = gaussian_sampler.sample(1000)\n",
    "samples = gaussian_sampler.sample(1000)"
   ]
  },
  {
   "cell_type": "code",
   "execution_count": 6,
   "metadata": {},
   "outputs": [
    {
     "data": {
      "text/plain": [
       "(-4.0, 4.0)"
      ]
     },
     "execution_count": 6,
     "metadata": {},
     "output_type": "execute_result"
    },
    {
     "data": {
      "image/png": "[encoded data removed]",
      "text/plain": [
       "<Figure size 432x288 with 1 Axes>"
      ]
     },
     "metadata": {
      "needs_background": "light"
     },
     "output_type": "display_data"
    }
   ],
   "source": [
    "plt.hist(samples, bins=100, density=True)\n",
    "x = gaussian_sampler.interpolation.get___y()\n",
    "y = []\n",
    "for x_i in x:\n",
    "    y.append(gaussian(x_i))\n",
    "plt.plot(x, y)\n",
    "plt.xlim(-4, 4)"
   ]
  },
  {
   "cell_type": "code",
   "execution_count": 7,
   "metadata": {},
   "outputs": [],
   "source": [
    "def poisson(x):\n",
    "    return 2**x*np.exp(-2)/np.math.gamma(x+1)"
   ]
  },
  {
   "cell_type": "code",
   "execution_count": 8,
   "metadata": {},
   "outputs": [],
   "source": [
    "poisson_sampler = Sampler(poisson, 1000)"
   ]
  },
  {
   "cell_type": "code",
   "execution_count": 9,
   "metadata": {},
   "outputs": [],
   "source": [
    "samples = poisson_sampler.sample(100000)"
   ]
  },
  {
   "cell_type": "code",
   "execution_count": 10,
   "metadata": {},
   "outputs": [
    {
     "data": {
      "text/plain": [
       "[<matplotlib.lines.Line2D at 0x7fced745b3a0>]"
      ]
     },
     "execution_count": 10,
     "metadata": {},
     "output_type": "execute_result"
    },
    {
     "data": {
      "image/png": "[encoded data removed]",
      "text/plain": [
       "<Figure size 432x288 with 1 Axes>"
      ]
     },
     "metadata": {
      "needs_background": "light"
     },
     "output_type": "display_data"
    }
   ],
   "source": [
    "plt.hist(samples, bins=50, density=True)\n",
    "x = poisson_sampler.interpolation.get___y()\n",
    "y = []\n",
    "for x_i in x:\n",
    "    y.append(poisson(x_i))\n",
    "plt.plot(x, y)\n",
    "# plt.xlim(-4, 4)"
   ]
  },
  {
   "cell_type": "code",
   "execution_count": null,
   "metadata": {},
   "outputs": [],
   "source": []
  }
 ],
 "metadata": {
  "interpreter": {
   "hash": "31f2aee4e71d21fbe5cf8b01ff0e069b9275f58929596ceb00d14d90e3e16cd6"
  },
  "kernelspec": {
   "display_name": "Python 3.9.7 64-bit",
   "language": "python",
   "name": "python3"
  },
  "language_info": {
   "codemirror_mode": {
    "name": "ipython",
    "version": 3
   },
   "file_extension": ".py",
   "mimetype": "text/x-python",
   "name": "python",
   "nbconvert_exporter": "python",
   "pygments_lexer": "ipython3",
   "version": "3.10.4"
  },
  "orig_nbformat": 4
 },
 "nbformat": 4,
 "nbformat_minor": 2
}
