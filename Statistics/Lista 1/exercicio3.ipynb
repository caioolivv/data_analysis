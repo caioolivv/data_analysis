{
 "cells": [
  {
   "cell_type": "code",
   "execution_count": 1,
   "metadata": {},
   "outputs": [],
   "source": [
    "import numpy as np\n",
    "from sampler import *\n",
    "import matplotlib.pyplot as plt\n",
    "import scipy.special as sp\n",
    "import scipy.stats as stats\n",
    "from math import prod\n",
    "\n",
    "np.random.seed(1)\n",
    "\n",
    "def uniform(x):\n",
    "    if x < 0:\n",
    "        return 0\n",
    "    if x > 1:\n",
    "        return 0\n",
    "    else:\n",
    "        return 1\n",
    "\n",
    "def normal(x):\n",
    "    return np.exp(-x**2/2)/np.sqrt(2*np.pi)\n",
    "\n",
    "x0 = 10\n",
    "sigma = 1\n",
    "\n",
    "def erf(x):\n",
    "    if x > 0:\n",
    "        return (np.exp(-(x-x0)**2/(2*sigma**2) - np.exp(-(x+x0)**2/(2*sigma**2))))/(sigma*np.sqrt(np.pi*2))/sp.erf(x0/sigma/np.sqrt(2))\n",
    "    else:\n",
    "        return 0\n",
    "\n",
    "uniform_sampler = Sampler(uniform, domain=(True, 0, 1))\n",
    "normal_sampler = Sampler(normal, domain=(True, -5, 5))\n",
    "erf_sampler = Sampler(erf, domain=(True, 5, 15))"
   ]
  },
  {
   "cell_type": "markdown",
   "metadata": {},
   "source": [
    "# Exercício 3"
   ]
  },
  {
   "cell_type": "code",
   "execution_count": 2,
   "metadata": {},
   "outputs": [],
   "source": [
    "N = [10**(i+1) for i in range(3)]\n",
    "skews = []\n",
    "curtosis = []\n",
    "\n",
    "for n in N:\n",
    "    erf_samples = erf_sampler.sample(n)\n",
    "    erf_samples.set_moments()\n",
    "    skews.append(erf_samples.skew)\n",
    "    curtosis.append(erf_samples.curtosis)"
   ]
  },
  {
   "cell_type": "code",
   "execution_count": 3,
   "metadata": {},
   "outputs": [
    {
     "name": "stdout",
     "output_type": "stream",
     "text": [
      "-1.5914 +2.1066 10\n",
      "-0.1297 -0.1944 100\n",
      "-0.1127 -0.1390 1000\n"
     ]
    }
   ],
   "source": [
    "for i in range(len(N)):\n",
    "    print(f\"{skews[i]:+.4f} {curtosis[i]:+.4f} {N[i]}\")"
   ]
  },
  {
   "cell_type": "markdown",
   "metadata": {},
   "source": [
    "Ambos se estabilizam em até duas casas decimais em N = 1000000."
   ]
  }
 ],
 "metadata": {
  "kernelspec": {
   "display_name": "Python 3.10.4 64-bit",
   "language": "python",
   "name": "python3"
  },
  "language_info": {
   "codemirror_mode": {
    "name": "ipython",
    "version": 3
   },
   "file_extension": ".py",
   "mimetype": "text/x-python",
   "name": "python",
   "nbconvert_exporter": "python",
   "pygments_lexer": "ipython3",
   "version": "3.10.4"
  },
  "orig_nbformat": 4,
  "vscode": {
   "interpreter": {
    "hash": "767d51c1340bd893661ea55ea3124f6de3c7a262a8b4abca0554b478b1e2ff90"
   }
  }
 },
 "nbformat": 4,
 "nbformat_minor": 2
}
