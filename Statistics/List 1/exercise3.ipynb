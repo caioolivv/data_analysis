{
 "cells": [
  {
   "cell_type": "code",
   "execution_count": 4,
   "metadata": {},
   "outputs": [],
   "source": [
    "import numpy as np\n",
    "from sampler import *\n",
    "import matplotlib.pyplot as plt\n",
    "import scipy.special as sp\n",
    "import scipy.stats as stats\n",
    "from math import prod\n",
    "\n",
    "np.random.seed(1)\n",
    "\n",
    "def uniform(x):\n",
    "    if x < 0:\n",
    "        return 0\n",
    "    if x > 1:\n",
    "        return 0\n",
    "    else:\n",
    "        return 1\n",
    "\n",
    "def normal(x):\n",
    "    return np.exp(-x**2/2)/np.sqrt(2*np.pi)\n",
    "\n",
    "x0 = 10\n",
    "sigma = 1\n",
    "\n",
    "def erf(x):\n",
    "    if x > 0:\n",
    "        return (np.exp(-(x-x0)**2/(2*sigma**2) - np.exp(-(x+x0)**2/(2*sigma**2))))/(sigma*np.sqrt(np.pi*2))/sp.erf(x0/sigma/np.sqrt(2))\n",
    "    else:\n",
    "        return 0\n",
    "\n",
    "uniform_sampler = Sampler(uniform, domain=(True, 0, 1))\n",
    "normal_sampler = Sampler(normal)\n",
    "erf_sampler = Sampler(erf)"
   ]
  },
  {
   "cell_type": "markdown",
   "metadata": {},
   "source": [
    "# Exercise 3"
   ]
  },
  {
   "cell_type": "code",
   "execution_count": 7,
   "metadata": {},
   "outputs": [],
   "source": [
    "N = [10**(i+1) for i in range(6)]\n",
    "skews = []\n",
    "curtosis = []\n",
    "\n",
    "for n in N:\n",
    "    erf_samples = erf_sampler.sample(n)\n",
    "    erf_samples.set_moments()\n",
    "    skews.append(erf_samples.skew)\n",
    "    curtosis.append(erf_samples.curtosis)"
   ]
  },
  {
   "cell_type": "code",
   "execution_count": 8,
   "metadata": {},
   "outputs": [
    {
     "name": "stdout",
     "output_type": "stream",
     "text": [
      "-0.1128 -1.0741 10\n",
      "+0.3307 +0.0329 100\n",
      "-0.0330 -0.0443 1000\n",
      "-0.0301 +0.0149 10000\n",
      "-0.0055 -0.0224 100000\n",
      "+0.0014 -0.0015 1000000\n"
     ]
    }
   ],
   "source": [
    "for i in range(len(N)):\n",
    "    print(f\"{skews[i]:+.4f} {curtosis[i]:+.4f} {N[i]}\")"
   ]
  },
  {
   "cell_type": "markdown",
   "metadata": {},
   "source": [
    "Both stabilize to two decimal cases at N = 1000000."
   ]
  }
 ],
 "metadata": {
  "kernelspec": {
   "display_name": "Python 3.10.4 64-bit",
   "language": "python",
   "name": "python3"
  },
  "language_info": {
   "codemirror_mode": {
    "name": "ipython",
    "version": 3
   },
   "file_extension": ".py",
   "mimetype": "text/x-python",
   "name": "python",
   "nbconvert_exporter": "python",
   "pygments_lexer": "ipython3",
   "version": "3.10.4"
  },
  "orig_nbformat": 4,
  "vscode": {
   "interpreter": {
    "hash": "e7370f93d1d0cde622a1f8e1c04877d8463912d04d973331ad4851f04de6915a"
   }
  }
 },
 "nbformat": 4,
 "nbformat_minor": 2
}
