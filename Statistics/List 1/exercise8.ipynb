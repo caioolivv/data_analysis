{
 "cells": [
  {
   "cell_type": "code",
   "execution_count": 1,
   "metadata": {},
   "outputs": [],
   "source": [
    "import numpy as np\n",
    "from sampler import *\n",
    "import matplotlib.pyplot as plt\n",
    "import scipy.special as sp\n",
    "import scipy.stats as stats\n",
    "from math import prod\n",
    "\n",
    "np.random.seed(1)\n",
    "\n",
    "def uniform(x):\n",
    "    if x < 0:\n",
    "        return 0\n",
    "    if x > 1:\n",
    "        return 0\n",
    "    else:\n",
    "        return 1\n",
    "\n",
    "def normal(x):\n",
    "    return np.exp(-x**2/2)/np.sqrt(2*np.pi)\n",
    "\n",
    "x0 = 10\n",
    "sigma = 1\n",
    "\n",
    "def erf(x):\n",
    "    if x > 0:\n",
    "        return (np.exp(-(x-x0)**2/(2*sigma**2) - np.exp(-(x+x0)**2/(2*sigma**2))))/(sigma*np.sqrt(np.pi*2))/sp.erf(x0/sigma/np.sqrt(2))\n",
    "    else:\n",
    "        return 0\n",
    "\n",
    "uniform_sampler = Sampler(uniform, domain=(True, 0, 1))\n",
    "normal_sampler = Sampler(normal, domain=(True, -5, 5))\n",
    "erf_sampler = Sampler(erf, domain=(True, 5, 15))"
   ]
  },
  {
   "cell_type": "markdown",
   "metadata": {},
   "source": [
    "# Exercise 8"
   ]
  },
  {
   "cell_type": "markdown",
   "metadata": {},
   "source": [
    "\\begin{align}\n",
    "    \\mathcal{P}(n\\Omega) &= \\int_{\\Omega_n}\\mathcal{d}x\\mathcal{d}y \\frac{exp{\\left\\{ \\frac{-1}{2(1-\\rho^2)} \\left[ \\left( \\frac{x -\\mu_x}{\\sigma_x} \\right)^2 + \\left( \\frac{y -\\mu_y}{\\sigma_y} \\right)^2 - 2 \\rho \\left( \\frac{x -\\mu_x}{\\sigma_x} \\right) \\left( \\frac{y -\\mu_y}{\\sigma_y} \\right) \\right] \\right\\}}}{2\\pi\\sigma_x\\sigma_y\\sqrt{1-\\rho^2}}\n",
    "\\end{align}\n",
    "\n",
    "Substituting $\\bar{x}= \\frac{x-\\mu_x}{\\sigma_x}$ and $\\bar{y} = \\frac{y-\\mu_y}{\\sigma_y}$:\n",
    "\n",
    "\\begin{align}\n",
    "    \\mathcal{P}(n\\Omega) &= \\int_{\\Omega_n}\\mathcal{d}\\bar{x}\\mathcal{d}\\bar{y} \\frac{exp{\\left\\{- \\left[] \\frac{\\bar{x}^2 + \\bar{y}^2 - 2\\rho\\bar{x}\\bar{y}}{2\\left(1-\\rho^2\\right)} \\right] \\right\\} }}{2\\pi\\sqrt{1-\\rho^2}}\n",
    "\\end{align}\n",
    "\n",
    "The exponent can be seen as the result of a matrix multiplication:\n",
    "\n",
    "\\begin{align}\n",
    "    \\begin{pmatrix}\n",
    "        \\bar{x} & \\bar{y}\n",
    "    \\end{pmatrix}\n",
    "\n",
    "    \\begin{pmatrix}\n",
    "        1     & -\\rho \\\\\n",
    "        -\\rho & 1\n",
    "    \\end{pmatrix}\n",
    "\n",
    "    \\begin{pmatrix}\n",
    "        \\bar{x} \\\\\n",
    "        \\bar{y}\n",
    "    \\end{pmatrix}\n",
    "\n",
    "    = \\bar{x}^2 + \\bar{y}^2 - 2\\rho\\bar{x}\\bar{y}\n",
    "\\end{align}\n",
    "\n",
    "The eigenvectors of the middle matrix give us new variables in which the exponent is diagonalized, namely $u = (x-y)/\\sqrt{2}$ and $ v = (x+y)/\\sqrt{2} $. The jacobian of this variable transformation can easily be seen to equal 1. Hence\n",
    "\n",
    "\\begin{align}\n",
    "    \\mathcal{P}(n\\Omega) &= \\int_{\\Omega_n} \\mathcal{d}u \\mathcal{d}v \\frac{exp{\\left\\{- \\left[ \\frac{u^2 \\left( 1+ \\rho \\right) + v^2\\left(1-\\rho\\right)}{2\\sqrt{1-\\rho^2}} \\right] \\right\\} }}{2\\pi\\sqrt{1-\\rho^2}}\n",
    "\\end{align}\n",
    "\n",
    "Substituting then $ \\bar{u} = u/\\sqrt{1-\\rho} $ and $ \\bar{v} = v/\\sqrt{1+\\rho} $\n",
    "\n",
    "\\begin{align}\n",
    "    \\mathcal{P}(n\\Omega) &= \\int_{\\Omega_n} \\mathcal{d}\\bar{u} \\mathcal{d}\\bar{v} \\frac{exp \\left[- \\frac{1}{2}\\left(\\bar{u}^2 + \\bar{v}^2\\right) \\right]}{2\\pi} = \\int_0^{r_n} \\mathcal{d} r r e^{- \\frac{r^2}{2}}\n",
    "\\end{align}\n",
    "\n",
    "\n",
    "where $ r = \\chi/\\sqrt{1 - \\rho^2} $. Finally:\n",
    "\n",
    "\\begin{align}\n",
    "    \\mathcal{P} (n\\Omega) &= - e^{- \\frac{1}{2}r^2} |_0^{n/\\sqrt{1 - \\rho^2}} = 1 - e^{-\\frac{n^2}{2(1-\\rho^2)}}\n",
    "\\end{align}\n"
   ]
  },
  {
   "cell_type": "code",
   "execution_count": 2,
   "metadata": {},
   "outputs": [
    {
     "name": "stdout",
     "output_type": "stream",
     "text": [
      "Probability 1-sigma = 0.4866\n",
      "Probability 2-sigma = 0.9305\n",
      "Probability 3-sigma = 0.9975\n"
     ]
    }
   ],
   "source": [
    "rho = 0.5\n",
    "\n",
    "for ni in range(1,4):\n",
    "    p = 1 - np.exp(-ni**2/2/(1-rho**2))\n",
    "    print(f'Probability {ni}-sigma = {p:.4f}')\n"
   ]
  }
 ],
 "metadata": {
  "kernelspec": {
   "display_name": "Python 3.10.4 64-bit",
   "language": "python",
   "name": "python3"
  },
  "language_info": {
   "codemirror_mode": {
    "name": "ipython",
    "version": 3
   },
   "file_extension": ".py",
   "mimetype": "text/x-python",
   "name": "python",
   "nbconvert_exporter": "python",
   "pygments_lexer": "ipython3",
   "version": "3.10.4"
  },
  "orig_nbformat": 4,
  "vscode": {
   "interpreter": {
    "hash": "e7370f93d1d0cde622a1f8e1c04877d8463912d04d973331ad4851f04de6915a"
   }
  }
 },
 "nbformat": 4,
 "nbformat_minor": 2
}
