{
 "cells": [
  {
   "cell_type": "code",
   "execution_count": 1,
   "metadata": {},
   "outputs": [],
   "source": [
    "import numpy as np\n",
    "from sampler import *\n",
    "import matplotlib.pyplot as plt\n",
    "import scipy.special as sp\n",
    "import scipy.stats as stats\n",
    "from math import prod\n",
    "\n",
    "np.random.seed(1)\n",
    "\n",
    "def uniform(x):\n",
    "    if x < 0:\n",
    "        return 0\n",
    "    if x > 1:\n",
    "        return 0\n",
    "    else:\n",
    "        return 1\n",
    "\n",
    "def normal(x):\n",
    "    return np.exp(-x**2/2)/np.sqrt(2*np.pi)\n",
    "\n",
    "x0 = 10\n",
    "sigma = 1\n",
    "\n",
    "def erf(x):\n",
    "    if x > 0:\n",
    "        return (np.exp(-(x-x0)**2/(2*sigma**2) - np.exp(-(x+x0)**2/(2*sigma**2))))/(sigma*np.sqrt(np.pi*2))/sp.erf(x0/sigma/np.sqrt(2))\n",
    "    else:\n",
    "        return 0\n",
    "\n",
    "uniform_sampler = Sampler(uniform, domain=(True, 0, 1))\n",
    "normal_sampler = Sampler(normal, domain=(True, -5, 5))\n",
    "erf_sampler = Sampler(erf, domain=(True, 5, 15))"
   ]
  },
  {
   "cell_type": "markdown",
   "metadata": {},
   "source": [
    "# Exercise 7"
   ]
  },
  {
   "cell_type": "markdown",
   "metadata": {},
   "source": [
    "\\begin{align}\n",
    "    \\mathcal{P}(n\\sigma) &= \\int_{\\Omega_n} \\mathcal{d}x \\mathcal{d}y \\mathcal{P}(x,y)  \\\\\n",
    "    &= \\int_{\\Omega_n} \\mathcal{d}x \\mathcal{d}y \\frac{e^{-\\frac{1}{2} \\left( \\frac{x - \\mu_x}{\\sigma_x} \\right)^2 - \\frac{1}{2} \\left( \\frac{y - \\mu_y}{\\sigma_y} \\right)^2}}{2\\pi\\sigma_x\\sigma_y} \n",
    "\\end{align}\n",
    "\n",
    "Using the following substitutions,\n",
    "\n",
    "\\begin{align}\n",
    "    \\bar{x} &= \\frac{x - \\mu_x}{\\sigma_x} & \\mathcal{d}\\bar{x} &= \\frac{1}{\\sigma_x} \\mathcal{d}x  \\\\\n",
    "    \\bar{y} &= \\frac{y - \\mu_y}{\\sigma_y} & \\mathcal{d}\\bar{y} &= \\frac{1}{\\sigma_y} \\mathcal{d}y \n",
    "\\end{align}\n",
    "\n",
    "we end up with \n",
    "\n",
    "\\begin{align}\n",
    "    \\mathcal{P}(n\\sigma) &= \\int_{\\Omega_n} \\mathcal{d}\\bar{x} \\mathcal{d}\\bar{y} \\frac{e^{-\\frac{1}{2} (\\bar{x}^2 + \\bar{y}^2)}}{2\\pi}\n",
    "\\end{align}\n",
    "\n",
    "Which can easily be seen to become\n",
    "\n",
    "\\begin{align}\n",
    "    \\mathcal{P}(n\\sigma) &= \\int_0^n \\int_0^{2\\pi} \\mathcal{d}\\chi \\mathcal{d}\\theta \\frac{\\chi e^{- \\frac{1}{2}\\chi^2}}{2\\pi} \\\\\n",
    "    &= - e^{- \\frac{1}{2}\\chi^2} |_0^n = 1 - e^{-\\frac{1}{2}n^2}\n",
    "\\end{align}"
   ]
  },
  {
   "cell_type": "code",
   "execution_count": 2,
   "metadata": {},
   "outputs": [
    {
     "name": "stdout",
     "output_type": "stream",
     "text": [
      "Probability 1-sigma = 0.3935\n",
      "Probability 2-sigma = 0.8647\n",
      "Probability 3-sigma = 0.9889\n"
     ]
    }
   ],
   "source": [
    "for ni in range(1,4):\n",
    "    p = 1 - np.exp(-ni**2/2)\n",
    "    print(f'Probability {ni}-sigma = {p:.4f}')\n"
   ]
  }
 ],
 "metadata": {
  "kernelspec": {
   "display_name": "Python 3.10.4 64-bit",
   "language": "python",
   "name": "python3"
  },
  "language_info": {
   "codemirror_mode": {
    "name": "ipython",
    "version": 3
   },
   "file_extension": ".py",
   "mimetype": "text/x-python",
   "name": "python",
   "nbconvert_exporter": "python",
   "pygments_lexer": "ipython3",
   "version": "3.10.4"
  },
  "orig_nbformat": 4,
  "vscode": {
   "interpreter": {
    "hash": "e7370f93d1d0cde622a1f8e1c04877d8463912d04d973331ad4851f04de6915a"
   }
  }
 },
 "nbformat": 4,
 "nbformat_minor": 2
}
